{
 "cells": [
  {
   "cell_type": "code",
   "execution_count": null,
   "id": "06f51d01",
   "metadata": {},
   "outputs": [],
   "source": [
    "import catminer\n",
    "from catminer.multiturn import extract\n",
    "from catminer.functions import define_client\n",
    "import os\n",
    "\n",
    "# set the current working directory to be the same as the file\n",
    "os.path.abspath('')"
   ]
  },
  {
   "cell_type": "markdown",
   "id": "e4efe52e",
   "metadata": {},
   "source": [
    "First, specify which LLM API you will be using.\n",
    "Currently we only support APIs, specifically Fireworks AI, Amazon Bedrock, and OpenAI.\n",
    "For this example, we will use Bedrock."
   ]
  },
  {
   "cell_type": "code",
   "execution_count": null,
   "id": "44c3614e",
   "metadata": {},
   "outputs": [],
   "source": [
    "api_name = \"Bedrock\""
   ]
  },
  {
   "cell_type": "markdown",
   "id": "56c136ce",
   "metadata": {},
   "source": [
    "Because we are using the Bedrock API, there are four environmental variables that we must define. These are:\n",
    "1. MODEL_ID\n",
    "2. AWS_REGION\n",
    "3. AWS_ACCESS_KEY_ID\n",
    "4. AWS_SECRET_ACCESS_KEY\n",
    "\n",
    "Documentation for Amazon Bedrock, including information on how to sign up and obtain an Access Key ID and Secret Access Key, can be found here: https://docs.aws.amazon.com/bedrock/\n",
    "\n",
    "Model IDs and supported AWS Regions are listed here: https://docs.aws.amazon.com/bedrock/latest/userguide/models-supported.html\n",
    "\n",
    "Below, we define these variables with *PLACEHOLDER* text for the latter two. Once you are registered and can provide your own confidential API keys, replace the *PLACEHOLDER* text with your key strings. "
   ]
  },
  {
   "cell_type": "markdown",
   "id": "71331691",
   "metadata": {},
   "source": [
    "In this example, we will use Llama 3.1 8B and specify an AWS Region that works for us. Depending on your location, you may need to change the model and Region."
   ]
  },
  {
   "cell_type": "code",
   "execution_count": null,
   "id": "e4ff2c0e",
   "metadata": {},
   "outputs": [],
   "source": [
    "os.environ['MODEL_ID'] = \"us.meta.llama3-1-405b-instruct-v1:0\"\n",
    "\n",
    "os.environ['AWS_REGION'] = \"us-east-2\"\n",
    "\n",
    "os.environ['AWS_ACCESS_KEY_ID'] = PLACEHOLDER\n",
    "\n",
    "os.environ['AWS_SECRET_ACCESS_KEY'] = PLACEHOLDER"
   ]
  },
  {
   "cell_type": "markdown",
   "id": "30cf81b6",
   "metadata": {},
   "source": [
    "We can now define our client_type variable, which is a necessary input for running the extraction workflow. Since we are using Llama 3.1 8B in this example, we will also define model_type = 'Meta'. "
   ]
  },
  {
   "cell_type": "code",
   "execution_count": null,
   "id": "ab1e90d5",
   "metadata": {},
   "outputs": [],
   "source": [
    "client = define_client(api_name)\n",
    "model_type = 'Meta'"
   ]
  },
  {
   "cell_type": "markdown",
   "id": "1f13fa91",
   "metadata": {},
   "source": [
    "Lastly, we will define the final few key inputs to our extraction workflow. These include the names of the properties and conditions we want to target, and the locations of our source text and custom system prompts. Since the sample paper we will be extracting from is on the oxidative coupling of methane, the target properties will be C2(+) yield and C2(+) selectivity -- two common figures of merit for this reaction. For our condition, we will search for temperature. A single preprocessed paper has already been provided in the adjacent \"downloaded_paper/\" folder, so that will be our source_dir. The system prompts are optional and can be customized arbitrarily, but samples are provided in yield-sp.txt and selectivity-sp.txt. "
   ]
  },
  {
   "cell_type": "markdown",
   "id": "300a4fa5",
   "metadata": {},
   "source": [
    "In addition to specifying the target properties and conditions, it is often helpful to specify *required phrases*, strings of text that must be present in a sentence in order for CatMiner to consider extracting a given property from it. These can substantially cut down on API costs with minimal losses in recall. In our case, we will require '%' when searching for our yield and selectivity properties, and common temperature units for the operating condition. "
   ]
  },
  {
   "cell_type": "code",
   "execution_count": null,
   "id": "dd460bc4",
   "metadata": {},
   "outputs": [],
   "source": [
    "source_dir = 'downloaded_paper/'\n",
    "\n",
    "target_properties = ['C2(+) yield', 'C2(+) selectivity']\n",
    "required_prop_phrases = [['%'], ['%']]\n",
    "\n",
    "target_conditions = ['temperature']\n",
    "required_cond_phrases = [' K', '°C']\n",
    "\n",
    "sp_paths = ['yield-sp.txt', 'selectivity-sp.txt']"
   ]
  },
  {
   "cell_type": "markdown",
   "id": "c3bd2cc9",
   "metadata": {},
   "source": [
    "Finally, we now call the extract function. We could optionally specify more extraction parameters. From this function call, we can enable features like abbrevation resolution or the prompting strategies tested in the associated publication. We could also customize the number of sentences considered by the LLM when searching for property and condition values. For now, we will stick with the defaults for these. "
   ]
  },
  {
   "cell_type": "code",
   "execution_count": null,
   "id": "7afbf798",
   "metadata": {},
   "outputs": [],
   "source": [
    "extract(source_dir, \n",
    "        client, \n",
    "        target_properties, \n",
    "        target_conditions, \n",
    "        model_type, \n",
    "        sp_paths, \n",
    "        required_prop_phrases=required_prop_phrases, \n",
    "        required_cond_phrases=required_cond_phrases)"
   ]
  }
 ],
 "metadata": {
  "kernelspec": {
   "display_name": "package_test",
   "language": "python",
   "name": "python3"
  },
  "language_info": {
   "codemirror_mode": {
    "name": "ipython",
    "version": 3
   },
   "file_extension": ".py",
   "mimetype": "text/x-python",
   "name": "python",
   "nbconvert_exporter": "python",
   "pygments_lexer": "ipython3",
   "version": "3.11.14"
  }
 },
 "nbformat": 4,
 "nbformat_minor": 5
}
